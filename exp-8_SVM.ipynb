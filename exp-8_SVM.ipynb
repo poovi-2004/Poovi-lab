{
 "cells": [
  {
   "cell_type": "code",
   "execution_count": 1,
   "id": "f93f9b03-3540-4051-91e8-00581a9f65dd",
   "metadata": {},
   "outputs": [],
   "source": [
    "import pandas as pd \n",
    "import numpy as np \n",
    "import seaborn as sns \n",
    "import matplotlib.pyplot as plt \n"
   ]
  },
  {
   "cell_type": "code",
   "execution_count": 2,
   "id": "ec8a22e9-a0b4-462a-914e-612f1ec7ab4e",
   "metadata": {},
   "outputs": [
    {
     "data": {
      "text/html": [
       "<div>\n",
       "<style scoped>\n",
       "    .dataframe tbody tr th:only-of-type {\n",
       "        vertical-align: middle;\n",
       "    }\n",
       "\n",
       "    .dataframe tbody tr th {\n",
       "        vertical-align: top;\n",
       "    }\n",
       "\n",
       "    .dataframe thead th {\n",
       "        text-align: right;\n",
       "    }\n",
       "</style>\n",
       "<table border=\"1\" class=\"dataframe\">\n",
       "  <thead>\n",
       "    <tr style=\"text-align: right;\">\n",
       "      <th></th>\n",
       "      <th>Label</th>\n",
       "      <th>EmailText</th>\n",
       "    </tr>\n",
       "  </thead>\n",
       "  <tbody>\n",
       "    <tr>\n",
       "      <th>0</th>\n",
       "      <td>ham</td>\n",
       "      <td>Go until jurong point, crazy.. Available only ...</td>\n",
       "    </tr>\n",
       "    <tr>\n",
       "      <th>1</th>\n",
       "      <td>ham</td>\n",
       "      <td>Ok lar... Joking wif u oni...</td>\n",
       "    </tr>\n",
       "    <tr>\n",
       "      <th>2</th>\n",
       "      <td>spam</td>\n",
       "      <td>Free entry in 2 a wkly comp to win FA Cup fina...</td>\n",
       "    </tr>\n",
       "    <tr>\n",
       "      <th>3</th>\n",
       "      <td>ham</td>\n",
       "      <td>U dun say so early hor... U c already then say...</td>\n",
       "    </tr>\n",
       "    <tr>\n",
       "      <th>4</th>\n",
       "      <td>ham</td>\n",
       "      <td>Nah I don't think he goes to usf, he lives aro...</td>\n",
       "    </tr>\n",
       "    <tr>\n",
       "      <th>...</th>\n",
       "      <td>...</td>\n",
       "      <td>...</td>\n",
       "    </tr>\n",
       "    <tr>\n",
       "      <th>5567</th>\n",
       "      <td>spam</td>\n",
       "      <td>This is the 2nd time we have tried 2 contact u...</td>\n",
       "    </tr>\n",
       "    <tr>\n",
       "      <th>5568</th>\n",
       "      <td>ham</td>\n",
       "      <td>Will Ì_ b going to esplanade fr home?</td>\n",
       "    </tr>\n",
       "    <tr>\n",
       "      <th>5569</th>\n",
       "      <td>ham</td>\n",
       "      <td>Pity, * was in mood for that. So...any other s...</td>\n",
       "    </tr>\n",
       "    <tr>\n",
       "      <th>5570</th>\n",
       "      <td>ham</td>\n",
       "      <td>The guy did some bitching but I acted like i'd...</td>\n",
       "    </tr>\n",
       "    <tr>\n",
       "      <th>5571</th>\n",
       "      <td>ham</td>\n",
       "      <td>Rofl. Its true to its name</td>\n",
       "    </tr>\n",
       "  </tbody>\n",
       "</table>\n",
       "<p>5572 rows × 2 columns</p>\n",
       "</div>"
      ],
      "text/plain": [
       "     Label                                          EmailText\n",
       "0      ham  Go until jurong point, crazy.. Available only ...\n",
       "1      ham                      Ok lar... Joking wif u oni...\n",
       "2     spam  Free entry in 2 a wkly comp to win FA Cup fina...\n",
       "3      ham  U dun say so early hor... U c already then say...\n",
       "4      ham  Nah I don't think he goes to usf, he lives aro...\n",
       "...    ...                                                ...\n",
       "5567  spam  This is the 2nd time we have tried 2 contact u...\n",
       "5568   ham              Will Ì_ b going to esplanade fr home?\n",
       "5569   ham  Pity, * was in mood for that. So...any other s...\n",
       "5570   ham  The guy did some bitching but I acted like i'd...\n",
       "5571   ham                         Rofl. Its true to its name\n",
       "\n",
       "[5572 rows x 2 columns]"
      ]
     },
     "execution_count": 2,
     "metadata": {},
     "output_type": "execute_result"
    }
   ],
   "source": [
    "spam = pd.read_csv('datasets/spam.csv')\n",
    "spam"
   ]
  },
  {
   "cell_type": "code",
   "execution_count": 3,
   "id": "ccdeefa6-ade9-4fa9-b3b1-9dcee543748d",
   "metadata": {},
   "outputs": [
    {
     "data": {
      "text/plain": [
       "(5572, 2)"
      ]
     },
     "execution_count": 3,
     "metadata": {},
     "output_type": "execute_result"
    }
   ],
   "source": [
    "spam.shape "
   ]
  },
  {
   "cell_type": "code",
   "execution_count": 7,
   "id": "38362f6a-64c5-416f-9549-bc7646e33cf7",
   "metadata": {},
   "outputs": [
    {
     "data": {
      "text/plain": [
       "Index(['Label', 'EmailText'], dtype='object')"
      ]
     },
     "execution_count": 7,
     "metadata": {},
     "output_type": "execute_result"
    }
   ],
   "source": [
    "spam.columns"
   ]
  },
  {
   "cell_type": "code",
   "execution_count": 8,
   "id": "6538a0c0-00f2-4739-800a-511785559138",
   "metadata": {},
   "outputs": [
    {
     "data": {
      "text/html": [
       "<div>\n",
       "<style scoped>\n",
       "    .dataframe tbody tr th:only-of-type {\n",
       "        vertical-align: middle;\n",
       "    }\n",
       "\n",
       "    .dataframe tbody tr th {\n",
       "        vertical-align: top;\n",
       "    }\n",
       "\n",
       "    .dataframe thead th {\n",
       "        text-align: right;\n",
       "    }\n",
       "</style>\n",
       "<table border=\"1\" class=\"dataframe\">\n",
       "  <thead>\n",
       "    <tr style=\"text-align: right;\">\n",
       "      <th></th>\n",
       "      <th>Label</th>\n",
       "      <th>EmailText</th>\n",
       "    </tr>\n",
       "  </thead>\n",
       "  <tbody>\n",
       "    <tr>\n",
       "      <th>count</th>\n",
       "      <td>5572</td>\n",
       "      <td>5572</td>\n",
       "    </tr>\n",
       "    <tr>\n",
       "      <th>unique</th>\n",
       "      <td>2</td>\n",
       "      <td>5169</td>\n",
       "    </tr>\n",
       "    <tr>\n",
       "      <th>top</th>\n",
       "      <td>ham</td>\n",
       "      <td>Sorry, I'll call later</td>\n",
       "    </tr>\n",
       "    <tr>\n",
       "      <th>freq</th>\n",
       "      <td>4825</td>\n",
       "      <td>30</td>\n",
       "    </tr>\n",
       "  </tbody>\n",
       "</table>\n",
       "</div>"
      ],
      "text/plain": [
       "       Label               EmailText\n",
       "count   5572                    5572\n",
       "unique     2                    5169\n",
       "top      ham  Sorry, I'll call later\n",
       "freq    4825                      30"
      ]
     },
     "execution_count": 8,
     "metadata": {},
     "output_type": "execute_result"
    }
   ],
   "source": [
    "spam.describe()"
   ]
  },
  {
   "cell_type": "code",
   "execution_count": 9,
   "id": "878b4291-def5-4727-9655-f7ec227d23a6",
   "metadata": {},
   "outputs": [
    {
     "name": "stdout",
     "output_type": "stream",
     "text": [
      "<class 'pandas.core.frame.DataFrame'>\n",
      "RangeIndex: 5572 entries, 0 to 5571\n",
      "Data columns (total 2 columns):\n",
      " #   Column     Non-Null Count  Dtype \n",
      "---  ------     --------------  ----- \n",
      " 0   Label      5572 non-null   object\n",
      " 1   EmailText  5572 non-null   object\n",
      "dtypes: object(2)\n",
      "memory usage: 87.2+ KB\n"
     ]
    }
   ],
   "source": [
    "spam.info()"
   ]
  },
  {
   "cell_type": "code",
   "execution_count": 12,
   "id": "5f2cec1d-5b5e-416a-9a51-4a3da8c7abb2",
   "metadata": {},
   "outputs": [
    {
     "data": {
      "text/plain": [
       "Label\n",
       "ham     4825\n",
       "spam     747\n",
       "Name: count, dtype: int64"
      ]
     },
     "execution_count": 12,
     "metadata": {},
     "output_type": "execute_result"
    }
   ],
   "source": [
    "spam['Label'].value_counts()"
   ]
  },
  {
   "cell_type": "code",
   "execution_count": 15,
   "id": "59e058e6-a66a-4079-96fb-e22d75052375",
   "metadata": {},
   "outputs": [
    {
     "data": {
      "image/png": "[encoded data removed]",
      "text/plain": [
       "<Figure size 640x480 with 1 Axes>"
      ]
     },
     "metadata": {},
     "output_type": "display_data"
    }
   ],
   "source": [
    "sns.countplot(data = spam,x=spam['Label']).set_title(\"Amount of apm and ham message\")\n",
    "plt.show()"
   ]
  },
  {
   "cell_type": "code",
   "execution_count": 17,
   "id": "c88ec335-1ad9-48d3-b18d-a77f6104e00b",
   "metadata": {},
   "outputs": [
    {
     "name": "stderr",
     "output_type": "stream",
     "text": [
      "/tmp/ipykernel_11293/3998433492.py:1: FutureWarning: pandas.value_counts is deprecated and will be removed in a future version. Use pd.Series(obj).value_counts() instead.\n",
      "  count_class = pd.value_counts(spam.Label,sort=True)\n",
      "/tmp/ipykernel_11293/3998433492.py:3: FutureWarning: Series.__getitem__ treating keys as positions is deprecated. In a future version, integer keys will always be treated as labels (consistent with DataFrame behavior). To access a value by position, use `ser.iloc[pos]`\n",
      "  size = [count_class[0],count_class[1]]\n"
     ]
    },
    {
     "data": {
      "image/png": "[encoded data removed]",
      "text/plain": [
       "<Figure size 640x480 with 1 Axes>"
      ]
     },
     "metadata": {},
     "output_type": "display_data"
    }
   ],
   "source": [
    "count_class = pd.value_counts(spam.Label,sort=True)\n",
    "labels = 'Ham','Spam' \n",
    "size = [count_class[0],count_class[1]]\n",
    "colors = ['gold','yellowgreen']\n",
    "explode = (0.1,0.1)\n",
    "plt.pie(size,explode=explode,labels=labels,colors=colors,autopct='%1.1f%%',shadow=True,startangle=140)\n",
    "plt.axis('equal')\n",
    "plt.show()"
   ]
  },
  {
   "cell_type": "code",
   "execution_count": 18,
   "id": "c1e5ce60-3721-43cf-b001-f011b57f574e",
   "metadata": {},
   "outputs": [
    {
     "data": {
      "text/plain": [
       "0       Go until jurong point, crazy.. Available only ...\n",
       "1                           Ok lar... Joking wif u oni...\n",
       "2       Free entry in 2 a wkly comp to win FA Cup fina...\n",
       "3       U dun say so early hor... U c already then say...\n",
       "4       Nah I don't think he goes to usf, he lives aro...\n",
       "                              ...                        \n",
       "5567    This is the 2nd time we have tried 2 contact u...\n",
       "5568                Will Ì_ b going to esplanade fr home?\n",
       "5569    Pity, * was in mood for that. So...any other s...\n",
       "5570    The guy did some bitching but I acted like i'd...\n",
       "5571                           Rofl. Its true to its name\n",
       "Name: EmailText, Length: 5572, dtype: object"
      ]
     },
     "execution_count": 18,
     "metadata": {},
     "output_type": "execute_result"
    }
   ],
   "source": [
    "X= spam['EmailText']\n",
    "X"
   ]
  },
  {
   "cell_type": "code",
   "execution_count": 20,
   "id": "fab642ab-9496-4279-935a-9751c708972c",
   "metadata": {},
   "outputs": [
    {
     "data": {
      "text/plain": [
       "0        ham\n",
       "1        ham\n",
       "2       spam\n",
       "3        ham\n",
       "4        ham\n",
       "        ... \n",
       "5567    spam\n",
       "5568     ham\n",
       "5569     ham\n",
       "5570     ham\n",
       "5571     ham\n",
       "Name: Label, Length: 5572, dtype: object"
      ]
     },
     "execution_count": 20,
     "metadata": {},
     "output_type": "execute_result"
    }
   ],
   "source": [
    "y = spam['Label']\n",
    "y"
   ]
  },
  {
   "cell_type": "code",
   "execution_count": 23,
   "id": "0a2d0939-ccd4-4202-8fcd-e6cef7a3e2c9",
   "metadata": {},
   "outputs": [
    {
     "name": "stdout",
     "output_type": "stream",
     "text": [
      "(1115,)\n",
      "(1115,)\n"
     ]
    }
   ],
   "source": [
    "from sklearn.model_selection import train_test_split\n",
    "X_train,X_test,y_train,y_test = train_test_split(\n",
    "    X,y,test_size=0.20,random_state=0\n",
    ")\n",
    "print(X_test.shape)\n",
    "print(y_test.shape)"
   ]
  },
  {
   "cell_type": "code",
   "execution_count": 25,
   "id": "03b5d9b3-7c01-435d-8725-82b1e21cab11",
   "metadata": {},
   "outputs": [],
   "source": [
    "from sklearn.feature_extraction.text import CountVectorizer\n",
    "cv = CountVectorizer()\n",
    "trainCV = cv.fit_transform(X_train)\n",
    "testCV = cv.transform(X_test)"
   ]
  },
  {
   "cell_type": "code",
   "execution_count": 27,
   "id": "237cd23a-804a-4937-b702-cf7061d26f6a",
   "metadata": {},
   "outputs": [],
   "source": [
    "from sklearn.naive_bayes import MultinomialNB\n",
    "naive_bayes = MultinomialNB()\n",
    "naive_bayes.fit(trainCV,y_train)\n",
    "pred_NB = naive_bayes.predict(testCV)"
   ]
  },
  {
   "cell_type": "code",
   "execution_count": 28,
   "id": "b3591367-042c-4d47-8f0e-cce15abde089",
   "metadata": {},
   "outputs": [
    {
     "data": {
      "text/plain": [
       "0.9874439461883409"
      ]
     },
     "execution_count": 28,
     "metadata": {},
     "output_type": "execute_result"
    }
   ],
   "source": [
    "from sklearn.metrics import accuracy_score\n",
    "accuracy_score_NB = accuracy_score(y_test,pred_NB)\n",
    "accuracy_score_NB"
   ]
  },
  {
   "cell_type": "code",
   "execution_count": 30,
   "id": "97a6cd32-a48d-4438-af6d-65eb62939fcf",
   "metadata": {},
   "outputs": [
    {
     "data": {
      "text/plain": [
       "0.9085201793721973"
      ]
     },
     "execution_count": 30,
     "metadata": {},
     "output_type": "execute_result"
    }
   ],
   "source": [
    "from sklearn.neighbors import KNeighborsClassifier\n",
    "classifier_KNN = KNeighborsClassifier()\n",
    "classifier_KNN.fit(trainCV,y_train)\n",
    "pred_KNN = classifier_KNN.predict(testCV)\n",
    "\n",
    "accuracy_score_KNN = accuracy_score(y_test,pred_KNN)\n",
    "accuracy_score_KNN"
   ]
  },
  {
   "cell_type": "code",
   "execution_count": 32,
   "id": "e4347d75-4094-4fac-a72d-dd9d52674a59",
   "metadata": {},
   "outputs": [
    {
     "data": {
      "text/plain": [
       "0.9811659192825112"
      ]
     },
     "execution_count": 32,
     "metadata": {},
     "output_type": "execute_result"
    }
   ],
   "source": [
    "from sklearn.svm import SVC\n",
    "classifier_SVM_linear = SVC(kernel='linear')\n",
    "classifier_SVM_linear.fit(trainCV,y_train)\n",
    "pred_SVM_linear = classifier_SVM_linear.predict(testCV)\n",
    "\n",
    "accuracy_score_SVM_linear = accuracy_score(y_test,pred_SVM_linear)\n",
    "accuracy_score_SVM_linear"
   ]
  },
  {
   "cell_type": "code",
   "execution_count": 34,
   "id": "9b6216b8-097f-4fc1-9114-773576354b83",
   "metadata": {},
   "outputs": [
    {
     "data": {
      "text/plain": [
       "0.9766816143497757"
      ]
     },
     "execution_count": 34,
     "metadata": {},
     "output_type": "execute_result"
    }
   ],
   "source": [
    "from sklearn.svm import SVC\n",
    "classifier_SVM_rbf = SVC(kernel='rbf')\n",
    "classifier_SVM_rbf.fit(trainCV,y_train)\n",
    "pred_SVM_rbf = classifier_SVM_rbf.predict(testCV)\n",
    "\n",
    "accuracy_score_SVM_rbf = accuracy_score(y_test,pred_SVM_rbf)\n",
    "accuracy_score_SVM_rbf"
   ]
  },
  {
   "cell_type": "code",
   "execution_count": 37,
   "id": "43016327-1f6d-42b3-90ed-30cacc2daadf",
   "metadata": {},
   "outputs": [
    {
     "data": {
      "text/plain": [
       "0.9417040358744395"
      ]
     },
     "execution_count": 37,
     "metadata": {},
     "output_type": "execute_result"
    }
   ],
   "source": [
    "from sklearn.svm import SVC\n",
    "from sklearn.svm import SVC\n",
    "classifier_SVM_rbf = SVC(kernel='rbf')\n",
    "classifier_SVM_rbf.fit(trainCV,y_train)\n",
    "pred_SVM_rbf = classifier_SVM_rbf.predict(testCV)\n",
    "\n",
    "accuracy_score_SVM_rbf = accuracy_score(y_test,pred_SVM_rbf)\n",
    "accuracy_score_SVM_rbf"
   ]
  },
  {
   "cell_type": "code",
   "execution_count": 39,
   "id": "4cb6ae7f-e8d3-4709-b0e7-f3794fdeec90",
   "metadata": {},
   "outputs": [
    {
     "data": {
      "text/plain": [
       "0.9300448430493273"
      ]
     },
     "execution_count": 39,
     "metadata": {},
     "output_type": "execute_result"
    }
   ],
   "source": [
    "from sklearn.svm import SVC\n",
    "classifier_SVM_sigmoid = SVC(kernel='sigmoid')\n",
    "classifier_SVM_sigmoid.fit(trainCV,y_train)\n",
    "pred_SVM_sigmoid = classifier_SVM_sigmoid.predict(testCV)\n",
    "\n",
    "accuracy_score_SVM_sigmoid = accuracy_score(y_test,pred_SVM_sigmoid)\n",
    "accuracy_score_SVM_sigmoid"
   ]
  },
  {
   "cell_type": "code",
   "execution_count": 40,
   "id": "0fbc6f43-078e-4d55-a83e-f677826c9a18",
   "metadata": {},
   "outputs": [
    {
     "data": {
      "text/plain": [
       "0.9587443946188341"
      ]
     },
     "execution_count": 40,
     "metadata": {},
     "output_type": "execute_result"
    }
   ],
   "source": [
    "from sklearn.tree import DecisionTreeClassifier\n",
    "classifier_dt = DecisionTreeClassifier()\n",
    "classifier_dt.fit(trainCV,y_train)\n",
    "pred_dt = classifier_dt.predict(testCV)\n",
    "\n",
    "accuracy_score_dt = accuracy_score(y_test,pred_dt)\n",
    "accuracy_score_dt"
   ]
  },
  {
   "cell_type": "code",
   "execution_count": 41,
   "id": "c85a5218-a483-408e-bcc0-9b8d408d1da5",
   "metadata": {},
   "outputs": [
    {
     "data": {
      "text/plain": [
       "0.9713004484304932"
      ]
     },
     "execution_count": 41,
     "metadata": {},
     "output_type": "execute_result"
    }
   ],
   "source": [
    "from sklearn.ensemble import RandomForestClassifier\n",
    "classifier_rfc = RandomForestClassifier()\n",
    "classifier_rfc.fit(trainCV,y_train)\n",
    "pred_rfc = classifier_rfc.predict(testCV)\n",
    "\n",
    "accuracy_score_rfc = accuracy_score(y_test,pred_rfc)\n",
    "accuracy_score_rfc"
   ]
  },
  {
   "cell_type": "code",
   "execution_count": 42,
   "id": "d940c983-4885-4425-b2a9-c029b7235440",
   "metadata": {},
   "outputs": [
    {
     "name": "stdout",
     "output_type": "stream",
     "text": [
      "K-Nearset Neighbours = 0.9085201793721973\n",
      "Navie Bayes = 0.9874439461883409\n",
      "Support vector Machine linear = 0.9811659192825112\n",
      "Support vector Machine Gaussion  = 0.9766816143497757\n",
      "Support vector Machine polynomial  = 0.9417040358744395\n",
      "Support vector Machine sigmoid  = 0.9300448430493273\n",
      "Decision Tree  = 0.9587443946188341\n",
      "Random Tree  = 0.9713004484304932\n"
     ]
    }
   ],
   "source": [
    "print(\"K-Nearset Neighbours =\",accuracy_score_KNN)\n",
    "print(\"Navie Bayes =\",accuracy_score_NB)\n",
    "print(\"Support vector Machine linear =\",accuracy_score_SVM_linear)\n",
    "print(\"Support vector Machine Gaussion  =\",accuracy_score_SVM_rbf)\n",
    "print(\"Support vector Machine polynomial  =\",accuracy_score_SVM_poly)\n",
    "print(\"Support vector Machine sigmoid  =\",accuracy_score_SVM_sigmoid)\n",
    "print(\"Decision Tree  =\",accuracy_score_dt)\n",
    "print(\"Random Tree  =\",accuracy_score_rfc)\n"
   ]
  },
  {
   "cell_type": "code",
   "execution_count": null,
   "id": "293f2842-ed02-4b9b-ad97-8a7f970e6f8e",
   "metadata": {},
   "outputs": [],
   "source": []
  }
 ],
 "metadata": {
  "kernelspec": {
   "display_name": "Python 3 (ipykernel)",
   "language": "python",
   "name": "python3"
  },
  "language_info": {
   "codemirror_mode": {
    "name": "ipython",
    "version": 3
   },
   "file_extension": ".py",
   "mimetype": "text/x-python",
   "name": "python",
   "nbconvert_exporter": "python",
   "pygments_lexer": "ipython3",
   "version": "3.11.10"
  }
 },
 "nbformat": 4,
 "nbformat_minor": 5
}
