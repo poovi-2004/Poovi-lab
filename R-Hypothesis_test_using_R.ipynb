{
 "cells": [
  {
   "cell_type": "code",
   "execution_count": 1,
   "id": "abe8a8d9-1287-4665-8796-0e2c3d533c34",
   "metadata": {},
   "outputs": [
    {
     "data": {
      "text/plain": [
       "\n",
       "\tOne Sample t-test\n",
       "\n",
       "data:  X\n",
       "t = -43.763, df = 99, p-value < 2.2e-16\n",
       "alternative hypothesis: true mean is not equal to 5\n",
       "95 percent confidence interval:\n",
       " -0.1099623  0.3333137\n",
       "sample estimates:\n",
       "mean of x \n",
       "0.1116757 \n"
      ]
     },
     "metadata": {},
     "output_type": "display_data"
    }
   ],
   "source": [
    "X <-rnorm(100)\n",
    "t.test(X,mu = 5)"
   ]
  },
  {
   "cell_type": "code",
   "execution_count": 2,
   "id": "b2b8ee5b-80a8-4d63-b2f2-d6e78942fbac",
   "metadata": {},
   "outputs": [],
   "source": [
    "X1<-rnorm(100)\n",
    "Y1<-rnorm(100)"
   ]
  },
  {
   "cell_type": "code",
   "execution_count": 3,
   "id": "9736737b-8b5e-48a2-b1ef-dbab4b80d363",
   "metadata": {},
   "outputs": [
    {
     "data": {
      "text/plain": [
       "\n",
       "\tWelch Two Sample t-test\n",
       "\n",
       "data:  X1 and Y1\n",
       "t = -0.036078, df = 194.25, p-value = 0.9713\n",
       "alternative hypothesis: true difference in means is not equal to 0\n",
       "95 percent confidence interval:\n",
       " -0.2746844  0.2648154\n",
       "sample estimates:\n",
       "  mean of x   mean of y \n",
       "-0.02818517 -0.02325064 \n"
      ]
     },
     "metadata": {},
     "output_type": "display_data"
    }
   ],
   "source": [
    "t.test(X1,Y1)"
   ]
  },
  {
   "cell_type": "code",
   "execution_count": 4,
   "id": "c55b8aab-aef6-4a12-9625-f91ffd75886c",
   "metadata": {},
   "outputs": [
    {
     "data": {
      "text/plain": [
       "\n",
       "\tOne Sample t-test\n",
       "\n",
       "data:  X2\n",
       "t = -19.474, df = 99, p-value = 1\n",
       "alternative hypothesis: true mean is greater than 2\n",
       "95 percent confidence interval:\n",
       " -0.08122584         Inf\n",
       "sample estimates:\n",
       " mean of x \n",
       "0.08228447 \n"
      ]
     },
     "metadata": {},
     "output_type": "display_data"
    }
   ],
   "source": [
    "X2<-rnorm(100) \n",
    "t.test(X2,mu = 2,alternative = 'greater')"
   ]
  },
  {
   "cell_type": "code",
   "execution_count": 5,
   "id": "239e116e-ab30-4c60-902a-b42f493c2a43",
   "metadata": {},
   "outputs": [
    {
     "data": {
      "text/plain": [
       "\n",
       "\tWilcoxon signed rank test with continuity correction\n",
       "\n",
       "data:  X3\n",
       "V = 2513, p-value = 0.9685\n",
       "alternative hypothesis: true location is not equal to 0\n"
      ]
     },
     "metadata": {},
     "output_type": "display_data"
    }
   ],
   "source": [
    "X3<-rnorm(100)\n",
    "wilcox.test(X3,exact = FALSE)"
   ]
  },
  {
   "cell_type": "code",
   "execution_count": 7,
   "id": "f7aba404-2c93-4db6-99bb-3f6376948f23",
   "metadata": {},
   "outputs": [
    {
     "data": {
      "text/plain": [
       "\n",
       "\tPearson's product-moment correlation\n",
       "\n",
       "data:  mtcars$mpg and mtcars$hp\n",
       "t = -6.7424, df = 30, p-value = 1.788e-07\n",
       "alternative hypothesis: true correlation is not equal to 0\n",
       "95 percent confidence interval:\n",
       " -0.8852686 -0.5860994\n",
       "sample estimates:\n",
       "       cor \n",
       "-0.7761684 \n"
      ]
     },
     "metadata": {},
     "output_type": "display_data"
    }
   ],
   "source": [
    "cor.test(mtcars$mpg,mtcars$hp)"
   ]
  },
  {
   "cell_type": "code",
   "execution_count": null,
   "id": "a03bda39-589b-49ce-bf3c-b6d219b8eec3",
   "metadata": {},
   "outputs": [],
   "source": []
  }
 ],
 "metadata": {
  "kernelspec": {
   "display_name": "R",
   "language": "R",
   "name": "ir"
  },
  "language_info": {
   "codemirror_mode": "r",
   "file_extension": ".r",
   "mimetype": "text/x-r-source",
   "name": "R",
   "pygments_lexer": "r",
   "version": "4.3.3"
  }
 },
 "nbformat": 4,
 "nbformat_minor": 5
}
