{
 "cells": [
  {
   "cell_type": "code",
   "execution_count": 3,
   "id": "0534f2e8-9bff-4f49-87da-97adfedd35b6",
   "metadata": {},
   "outputs": [],
   "source": [
    "import numpy as np\n",
    "from sklearn.feature_extraction.text import CountVectorizer\n",
    "from sklearn.feature_extraction.text import TfidfTransformer\n",
    "from sklearn.datasets import fetch_20newsgroups\n",
    "from sklearn.naive_bayes import MultinomialNB\n",
    "from sklearn.naive_bayes import GaussianNB\n",
    "from sklearn.pipeline import Pipeline"
   ]
  },
  {
   "cell_type": "code",
   "execution_count": 4,
   "id": "3c1f8683-59ef-4eb3-8750-418cb5bff6ec",
   "metadata": {},
   "outputs": [
    {
     "name": "stdout",
     "output_type": "stream",
     "text": [
      "['comp.graphics', 'rec.motorcycles', 'sci.electronics', 'sci.med']\n",
      "From: kreyling@lds.loral.com (Ed Kreyling 6966)\n",
      "Subject: Sun-os and 8bit ASCII graphics\n",
      "Organization: Loral Data Systems\n",
      "comp.graphics\n",
      "comp.graphics\n",
      "comp.graphics\n",
      "rec.motorcycles\n",
      "comp.graphics\n",
      "sci.med\n",
      "sci.electronics\n",
      "sci.electronics\n",
      "comp.graphics\n",
      "rec.motorcycles\n",
      "sci.electronics\n"
     ]
    }
   ],
   "source": [
    "categories = [\"rec.motorcycles\",\"sci.electronics\",\"comp.graphics\",\"sci.med\"]\n",
    "train_data = fetch_20newsgroups(\n",
    "    subset=\"train\",categories=categories,shuffle=True,random_state=42\n",
    ")    \n",
    "print(train_data.target_names)\n",
    "print(\"\\n\".join(train_data.data[0].split(\"\\n\")[:3]))\n",
    "print(train_data.target_names[train_data.target[0]])\n",
    "\n",
    "for t in train_data.target[:10]:\n",
    "    print(train_data.target_names[t])"
   ]
  },
  {
   "cell_type": "code",
   "execution_count": 5,
   "id": "0ba313c7-3947-44ba-9ff2-7578696ec8fa",
   "metadata": {},
   "outputs": [],
   "source": [
    "count_vect = CountVectorizer()\n",
    "X_train_counts = count_vect.fit_transform(train_data.data)\n",
    "tfidf_transformer = TfidfTransformer()\n",
    "X_train_tfidf = tfidf_transformer.fit_transform(X_train_counts)"
   ]
  },
  {
   "cell_type": "code",
   "execution_count": 6,
   "id": "68a881fa-a3a0-4187-b4dd-62b3fb961a6f",
   "metadata": {},
   "outputs": [],
   "source": [
    "clf = MultinomialNB().fit(X_train_tfidf,train_data.target)\n",
    "docs_new = [\"I have a Harley Davidson and Yamaha.\",\"I have a GTX 1050 GPU\"]\n",
    "\n",
    "X_new_counts = count_vect.transform(docs_new)\n",
    "X_new_tfidf = tfidf_transformer.transform(X_new_counts)"
   ]
  },
  {
   "cell_type": "code",
   "execution_count": 16,
   "id": "2cbbe9fe-d3d2-48d8-8da7-0b5cc4f17629",
   "metadata": {},
   "outputs": [
    {
     "name": "stdout",
     "output_type": "stream",
     "text": [
      "'I have a Harley Davidson and Yamaha.' => rec.motorcycles\n",
      "'I have a GTX 1050 GPU' => sci.med\n"
     ]
    }
   ],
   "source": [
    "predicted = clf.predict(X_new_tfidf)\n",
    "for doc, category in zip(docs_new,predicted):\n",
    "    print(\"%r => %s\" % (doc,train_data.target_names[category]))"
   ]
  },
  {
   "cell_type": "code",
   "execution_count": 17,
   "id": "5e097ac8-f17d-4c8c-9cbd-4e0cd69497c0",
   "metadata": {},
   "outputs": [
    {
     "name": "stdout",
     "output_type": "stream",
     "text": [
      "We got an accuracy of 91.49746192893402 %\n"
     ]
    }
   ],
   "source": [
    "text_clf = Pipeline(\n",
    "    [\n",
    "        (\"vect\",CountVectorizer()),\n",
    "        (\"tfidf\",TfidfTransformer()),\n",
    "        (\"clf\",MultinomialNB()),\n",
    "    ]\n",
    ")\n",
    "\n",
    "text_clf.fit(train_data.data,train_data.target)\n",
    "\n",
    "test_data = fetch_20newsgroups(\n",
    "    subset=\"test\",categories=categories,shuffle=True,random_state=42\n",
    ")\n",
    "docs_test = test_data.data \n",
    "\n",
    "predicted = text_clf.predict(docs_test) \n",
    "print(\"We got an accuracy of\",np.mean(predicted==test_data.target)*100,\"%\")"
   ]
  }
 ],
 "metadata": {
  "kernelspec": {
   "display_name": "Python 3 (ipykernel)",
   "language": "python",
   "name": "python3"
  },
  "language_info": {
   "codemirror_mode": {
    "name": "ipython",
    "version": 3
   },
   "file_extension": ".py",
   "mimetype": "text/x-python",
   "name": "python",
   "nbconvert_exporter": "python",
   "pygments_lexer": "ipython3",
   "version": "3.12.7"
  }
 },
 "nbformat": 4,
 "nbformat_minor": 5
}
