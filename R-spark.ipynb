{
 "cells": [
  {
   "cell_type": "code",
   "execution_count": 1,
   "id": "1e434abf-56f4-4c59-bec1-fd61bd07b763",
   "metadata": {},
   "outputs": [],
   "source": [
    "from pyspark import SparkContext\n",
    "from pyspark.sql import SparkSession\n",
    "from pyspark.sql.types import *\n",
    "from pyspark.sql.functions import *\n",
    "from pyspark.sql.types import Row\n",
    "from datetime import datetime"
   ]
  },
  {
   "cell_type": "code",
   "execution_count": 2,
   "id": "674599d1-c0b4-4c51-a3d6-02312532fc72",
   "metadata": {},
   "outputs": [
    {
     "name": "stderr",
     "output_type": "stream",
     "text": [
      "Setting default log level to \"WARN\".\n",
      "To adjust logging level use sc.setLogLevel(newLevel). For SparkR, use setLogLevel(newLevel).\n",
      "24/11/07 09:43:10 WARN NativeCodeLoader: Unable to load native-hadoop library for your platform... using builtin-java classes where applicable\n"
     ]
    }
   ],
   "source": [
    "sc = SparkContext()    "
   ]
  },
  {
   "cell_type": "code",
   "execution_count": 3,
   "id": "c71139b3-aa39-49f6-bf5c-c0000d9da215",
   "metadata": {},
   "outputs": [],
   "source": [
    "spark=SparkSession.builder.appName(\"Python Spark SQL basic example\").config(\"spark.some.config.option\",\"some-value\").getOrCreate()"
   ]
  },
  {
   "cell_type": "code",
   "execution_count": 4,
   "id": "78119239-e7d2-43ba-a4fb-a3e6b94b512e",
   "metadata": {},
   "outputs": [],
   "source": [
    "srecord=sc.parallelize([\n",
    "    Row(roll_no=1,name=\"Elan\",passed=True,marks={'Math':89,'Physics':87,'Chemistry':96},sports=['chess','football'],DoB=datetime(2012,5,1,12,1,5)),\n",
    "    Row(roll_no=2,name=\"Chan\",passed=False,marks={'Math':95,'Physics':66,'Chemistry':77},sports=['carrom','tennis'],DoB=datetime(2012,5,12,14,2,5)),\n",
    "    Row(roll_no=3,name=\"Hari\",passed=True,marks={'Math':95,'Physics':100,'Chemistry':95},sports=['football','kabadi'],DoB=datetime(2012,5,14,12,2,5))\n",
    "])"
   ]
  },
  {
   "cell_type": "code",
   "execution_count": 5,
   "id": "a1892bb4-f978-4f44-87ac-3c3ded717166",
   "metadata": {},
   "outputs": [
    {
     "name": "stderr",
     "output_type": "stream",
     "text": [
      "                                                                                \r"
     ]
    }
   ],
   "source": [
    "srdf=srecord.toDF()"
   ]
  },
  {
   "cell_type": "code",
   "execution_count": 6,
   "id": "25a06d9d-fb56-43c0-8864-9c52d7923d06",
   "metadata": {},
   "outputs": [
    {
     "name": "stdout",
     "output_type": "stream",
     "text": [
      "+-------+----+------+--------------------+------------------+-------------------+\n",
      "|roll_no|name|passed|               marks|            sports|                DoB|\n",
      "+-------+----+------+--------------------+------------------+-------------------+\n",
      "|      1|Elan|  true|{Math -> 89, Chem...| [chess, football]|2012-05-01 12:01:05|\n",
      "|      2|Chan| false|{Math -> 95, Chem...|  [carrom, tennis]|2012-05-12 14:02:05|\n",
      "|      3|Hari|  true|{Math -> 95, Chem...|[football, kabadi]|2012-05-14 12:02:05|\n",
      "+-------+----+------+--------------------+------------------+-------------------+\n",
      "\n"
     ]
    }
   ],
   "source": [
    "srdf.show()"
   ]
  },
  {
   "cell_type": "code",
   "execution_count": 7,
   "id": "489b59bb-93ad-42dc-90e9-29d2e190a585",
   "metadata": {},
   "outputs": [],
   "source": [
    "srdf.createOrReplaceTempView('records')"
   ]
  },
  {
   "cell_type": "code",
   "execution_count": 8,
   "id": "8c95a935-1765-44be-9573-ef081e42b310",
   "metadata": {},
   "outputs": [
    {
     "name": "stdout",
     "output_type": "stream",
     "text": [
      "+-------+----+------+--------------------+------------------+-------------------+\n",
      "|roll_no|name|passed|               marks|            sports|                DoB|\n",
      "+-------+----+------+--------------------+------------------+-------------------+\n",
      "|      1|Elan|  true|{Math -> 89, Chem...| [chess, football]|2012-05-01 12:01:05|\n",
      "|      2|Chan| false|{Math -> 95, Chem...|  [carrom, tennis]|2012-05-12 14:02:05|\n",
      "|      3|Hari|  true|{Math -> 95, Chem...|[football, kabadi]|2012-05-14 12:02:05|\n",
      "+-------+----+------+--------------------+------------------+-------------------+\n",
      "\n"
     ]
    }
   ],
   "source": [
    "spark.sql(\"SELECT * FROM records\").show()"
   ]
  },
  {
   "cell_type": "code",
   "execution_count": 9,
   "id": "4ffd36df-4e88-432a-9ee2-8c9bb241768f",
   "metadata": {},
   "outputs": [
    {
     "data": {
      "text/plain": [
       "pyspark.sql.dataframe.DataFrame"
      ]
     },
     "execution_count": 9,
     "metadata": {},
     "output_type": "execute_result"
    }
   ],
   "source": [
    "re=spark.sql(\"SELECT * FROM records\")\n",
    "type(re)"
   ]
  },
  {
   "cell_type": "code",
   "execution_count": 10,
   "id": "064da76a-1c91-41e0-874a-28488bf639f0",
   "metadata": {},
   "outputs": [
    {
     "name": "stdout",
     "output_type": "stream",
     "text": [
      "+-------+--------------+---------+\n",
      "|roll_no|marks[Physics]|sports[1]|\n",
      "+-------+--------------+---------+\n",
      "|      1|            87| football|\n",
      "|      2|            66|   tennis|\n",
      "|      3|           100|   kabadi|\n",
      "+-------+--------------+---------+\n",
      "\n"
     ]
    }
   ],
   "source": [
    "spark.sql('SELECT roll_no,marks[\"Physics\"],sports[1] FROM records').show()"
   ]
  },
  {
   "cell_type": "code",
   "execution_count": 11,
   "id": "d780b489-850a-4ea9-8564-d3d78d05cb17",
   "metadata": {},
   "outputs": [
    {
     "name": "stdout",
     "output_type": "stream",
     "text": [
      "+-------+----+------+--------------------+------------------+-------------------+\n",
      "|roll_no|name|passed|               marks|            sports|                DoB|\n",
      "+-------+----+------+--------------------+------------------+-------------------+\n",
      "|      1|Elan|  true|{Math -> 89, Chem...| [chess, football]|2012-05-01 12:01:05|\n",
      "|      3|Hari|  true|{Math -> 95, Chem...|[football, kabadi]|2012-05-14 12:02:05|\n",
      "+-------+----+------+--------------------+------------------+-------------------+\n",
      "\n"
     ]
    }
   ],
   "source": [
    "spark.sql(\"SELECT * FROM records where passed= True\").show()"
   ]
  },
  {
   "cell_type": "code",
   "execution_count": 12,
   "id": "63af60ea-a891-485f-bc00-85b056407913",
   "metadata": {},
   "outputs": [
    {
     "name": "stdout",
     "output_type": "stream",
     "text": [
      "+-------+----+------+-----+------+---+\n",
      "|roll_no|name|passed|marks|sports|DoB|\n",
      "+-------+----+------+-----+------+---+\n",
      "+-------+----+------+-----+------+---+\n",
      "\n"
     ]
    }
   ],
   "source": [
    "spark.sql('SELECT * FROM records where marks[\"Chemistry\"]<40').show()"
   ]
  },
  {
   "cell_type": "code",
   "execution_count": 13,
   "id": "a8134e46-c867-4836-8fdd-5b46592a6226",
   "metadata": {},
   "outputs": [],
   "source": [
    "srdf.createGlobalTempView('globalrecord')"
   ]
  },
  {
   "cell_type": "code",
   "execution_count": 14,
   "id": "10e9a034-bef7-4530-b628-260e4919a9e8",
   "metadata": {},
   "outputs": [
    {
     "name": "stdout",
     "output_type": "stream",
     "text": [
      "+-------+----+------+--------------------+------------------+-------------------+\n",
      "|roll_no|name|passed|               marks|            sports|                DoB|\n",
      "+-------+----+------+--------------------+------------------+-------------------+\n",
      "|      1|Elan|  true|{Math -> 89, Chem...| [chess, football]|2012-05-01 12:01:05|\n",
      "|      2|Chan| false|{Math -> 95, Chem...|  [carrom, tennis]|2012-05-12 14:02:05|\n",
      "|      3|Hari|  true|{Math -> 95, Chem...|[football, kabadi]|2012-05-14 12:02:05|\n",
      "+-------+----+------+--------------------+------------------+-------------------+\n",
      "\n"
     ]
    }
   ],
   "source": [
    "spark.sql(\"SELECT * FROM global_temp.globalrecord\").show()"
   ]
  },
  {
   "cell_type": "code",
   "execution_count": 15,
   "id": "743ab3e9-a0d8-4d56-be75-7e9f5bb0026e",
   "metadata": {},
   "outputs": [
    {
     "data": {
      "text/plain": [
       "['roll_no', 'name', 'passed', 'marks', 'sports', 'DoB']"
      ]
     },
     "execution_count": 15,
     "metadata": {},
     "output_type": "execute_result"
    }
   ],
   "source": [
    "srdf.columns"
   ]
  },
  {
   "cell_type": "code",
   "execution_count": 16,
   "id": "845b4a68-8207-49c5-b50b-d1b8ff685aff",
   "metadata": {},
   "outputs": [],
   "source": [
    "srdf=srdf.drop('passed')"
   ]
  },
  {
   "cell_type": "code",
   "execution_count": 17,
   "id": "05776e51-b140-4f2e-a1aa-dd6b1903c3d7",
   "metadata": {},
   "outputs": [
    {
     "name": "stdout",
     "output_type": "stream",
     "text": [
      "+---------+\n",
      "|avg_marks|\n",
      "+---------+\n",
      "|     91.0|\n",
      "|     79.0|\n",
      "|     97.0|\n",
      "+---------+\n",
      "\n"
     ]
    }
   ],
   "source": [
    "spark.sql(\"SELECT round((marks.Physics+marks.Chemistry+marks.Math)/3)avg_marks FROM records\").show()"
   ]
  },
  {
   "cell_type": "code",
   "execution_count": 18,
   "id": "1a4eb289-07bd-41fa-b497-f6313e7855f6",
   "metadata": {},
   "outputs": [],
   "source": [
    "srdf=spark.sql(\"SELECT *,round((marks.Physics+marks.Chemistry+marks.Math)/3)avg_marks FROM records\")"
   ]
  },
  {
   "cell_type": "code",
   "execution_count": 19,
   "id": "1c3f4b21-c80f-4227-98ff-35893fa0b499",
   "metadata": {},
   "outputs": [
    {
     "name": "stdout",
     "output_type": "stream",
     "text": [
      "+-------+----+------+--------------------+------------------+-------------------+---------+\n",
      "|roll_no|name|passed|               marks|            sports|                DoB|avg_marks|\n",
      "+-------+----+------+--------------------+------------------+-------------------+---------+\n",
      "|      1|Elan|  true|{Math -> 89, Chem...| [chess, football]|2012-05-01 12:01:05|     91.0|\n",
      "|      2|Chan| false|{Math -> 95, Chem...|  [carrom, tennis]|2012-05-12 14:02:05|     79.0|\n",
      "|      3|Hari|  true|{Math -> 95, Chem...|[football, kabadi]|2012-05-14 12:02:05|     97.0|\n",
      "+-------+----+------+--------------------+------------------+-------------------+---------+\n",
      "\n"
     ]
    },
    {
     "name": "stderr",
     "output_type": "stream",
     "text": [
      "24/11/07 09:43:29 WARN GarbageCollectionMetrics: To enable non-built-in garbage collector(s) List(G1 Concurrent GC), users should configure it(them) to spark.eventLog.gcMetrics.youngGenerationGarbageCollectors or spark.eventLog.gcMetrics.oldGenerationGarbageCollectors\n"
     ]
    }
   ],
   "source": [
    "srdf.show()"
   ]
  },
  {
   "cell_type": "code",
   "execution_count": null,
   "id": "6009865e-fa56-46e5-aa6f-9296e3f6d43d",
   "metadata": {},
   "outputs": [],
   "source": []
  }
 ],
 "metadata": {
  "kernelspec": {
   "display_name": "Python 3 (ipykernel)",
   "language": "python",
   "name": "python3"
  },
  "language_info": {
   "codemirror_mode": {
    "name": "ipython",
    "version": 3
   },
   "file_extension": ".py",
   "mimetype": "text/x-python",
   "name": "python",
   "nbconvert_exporter": "python",
   "pygments_lexer": "ipython3",
   "version": "3.12.7"
  }
 },
 "nbformat": 4,
 "nbformat_minor": 5
}
