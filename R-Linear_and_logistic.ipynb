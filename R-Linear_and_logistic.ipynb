{
 "cells": [
  {
   "cell_type": "code",
   "execution_count": 2,
   "id": "fa8269e0-4396-4a4c-8d7c-886f3b1fd5aa",
   "metadata": {},
   "outputs": [
    {
     "data": {
      "text/plain": [
       "\n",
       "Call:\n",
       "lm(formula = mpg ~ wt, data = mtcars)\n",
       "\n",
       "Residuals:\n",
       "    Min      1Q  Median      3Q     Max \n",
       "-4.5432 -2.3647 -0.1252  1.4096  6.8727 \n",
       "\n",
       "Coefficients:\n",
       "            Estimate Std. Error t value Pr(>|t|)    \n",
       "(Intercept)  37.2851     1.8776  19.858  < 2e-16 ***\n",
       "wt           -5.3445     0.5591  -9.559 1.29e-10 ***\n",
       "---\n",
       "Signif. codes:  0 ‘***’ 0.001 ‘**’ 0.01 ‘*’ 0.05 ‘.’ 0.1 ‘ ’ 1\n",
       "\n",
       "Residual standard error: 3.046 on 30 degrees of freedom\n",
       "Multiple R-squared:  0.7528,\tAdjusted R-squared:  0.7446 \n",
       "F-statistic: 91.38 on 1 and 30 DF,  p-value: 1.294e-10\n"
      ]
     },
     "metadata": {},
     "output_type": "display_data"
    }
   ],
   "source": [
    "data(mtcars)\n",
    "linear_model<-lm(mpg~wt,data=mtcars)\n",
    "summary(linear_model)"
   ]
  },
  {
   "cell_type": "code",
   "execution_count": 3,
   "id": "0c2d60bc-5bd7-401f-a2ad-c3b01393d13f",
   "metadata": {},
   "outputs": [],
   "source": [
    "predicted_mpg<-predict(linear_model,newdata = data.frame(wt=c(2.5,3.0)))"
   ]
  },
  {
   "cell_type": "code",
   "execution_count": 5,
   "id": "ac77f8b4-dde1-4815-8e5d-3e62ed209661",
   "metadata": {},
   "outputs": [
    {
     "name": "stdout",
     "output_type": "stream",
     "text": [
      "Predicted MPG for wt = 2.5 23.92395 \n"
     ]
    }
   ],
   "source": [
    "cat(\"Predicted MPG for wt = 2.5\",predicted_mpg[1],\"\\n\")"
   ]
  },
  {
   "cell_type": "code",
   "execution_count": 6,
   "id": "6d87d453-5f3d-4d46-928b-bd7e900caf69",
   "metadata": {},
   "outputs": [
    {
     "name": "stdout",
     "output_type": "stream",
     "text": [
      "Predicted MPG for wt = 3.0 21.25171 \n",
      "\n"
     ]
    }
   ],
   "source": [
    "cat(\"Predicted MPG for wt = 3.0\",predicted_mpg[2],\"\\n\\n\")"
   ]
  },
  {
   "cell_type": "code",
   "execution_count": 7,
   "id": "5f033c4c-0592-46b7-923b-63270d930ac8",
   "metadata": {},
   "outputs": [],
   "source": [
    "data(iris)\n",
    "iris$binary_species<-ifelse(iris$Species==\"Setosa\",1,0)"
   ]
  },
  {
   "cell_type": "code",
   "execution_count": 8,
   "id": "0a70ab2a-c310-44c7-940d-d82c5b7d9bfc",
   "metadata": {},
   "outputs": [
    {
     "name": "stderr",
     "output_type": "stream",
     "text": [
      "Warning message:\n",
      "“glm.fit: algorithm did not converge”\n"
     ]
    }
   ],
   "source": [
    "logistic_model<-glm(binary_species~Sepal.Length + Sepal.Width+Petal.Length+Petal.Width,data=iris,family=binomial)"
   ]
  },
  {
   "cell_type": "code",
   "execution_count": 9,
   "id": "c5ed30c8-100f-4065-a23f-0467bd3cd7ab",
   "metadata": {},
   "outputs": [
    {
     "data": {
      "text/plain": [
       "\n",
       "Call:\n",
       "glm(formula = binary_species ~ Sepal.Length + Sepal.Width + Petal.Length + \n",
       "    Petal.Width, family = binomial, data = iris)\n",
       "\n",
       "Coefficients:\n",
       "               Estimate Std. Error z value Pr(>|z|)\n",
       "(Intercept)  -2.657e+01  3.329e+05       0        1\n",
       "Sepal.Length  2.342e-15  9.370e+04       0        1\n",
       "Sepal.Width   3.450e-15  9.702e+04       0        1\n",
       "Petal.Length  7.178e-16  9.240e+04       0        1\n",
       "Petal.Width   4.923e-15  1.535e+05       0        1\n",
       "\n",
       "(Dispersion parameter for binomial family taken to be 1)\n",
       "\n",
       "    Null deviance: 0.0000e+00  on 149  degrees of freedom\n",
       "Residual deviance: 8.7024e-10  on 145  degrees of freedom\n",
       "AIC: 10\n",
       "\n",
       "Number of Fisher Scoring iterations: 25\n"
      ]
     },
     "metadata": {},
     "output_type": "display_data"
    }
   ],
   "source": [
    "summary(logistic_model)"
   ]
  },
  {
   "cell_type": "code",
   "execution_count": 10,
   "id": "6c0b63b8-f6b6-4ada-aeda-c1a3efaee401",
   "metadata": {},
   "outputs": [],
   "source": [
    "new_data<-data.frame(Sepal.Length = c(5.1,6.0),Sepal.Width = c(3.5,3.0),Petal.Length=c(1.4,4.8),Petal.Width=c(0.2,1.8))"
   ]
  },
  {
   "cell_type": "code",
   "execution_count": 15,
   "id": "8ad1ae11-4d57-45e3-a47c-25483cd3425f",
   "metadata": {},
   "outputs": [],
   "source": [
    "predicted_probabilities<-predict(logistic_model,newdata = new_data,type=\"respons\")"
   ]
  },
  {
   "cell_type": "code",
   "execution_count": 16,
   "id": "635f9a10-c202-49d3-9d54-4823effc758a",
   "metadata": {},
   "outputs": [
    {
     "name": "stdout",
     "output_type": "stream",
     "text": [
      "Predicted Probabilities for Setosa(1) class:\n",
      "2.900701e-12 2.900701e-12 \n"
     ]
    }
   ],
   "source": [
    "cat(\"Predicted Probabilities for Setosa(1) class:\\n\")\n",
    "cat(predicted_probabilities,\"\\n\")"
   ]
  },
  {
   "cell_type": "code",
   "execution_count": null,
   "id": "33d3edcf-f8cc-4017-bd3d-f0f3ded2e4a1",
   "metadata": {},
   "outputs": [],
   "source": []
  }
 ],
 "metadata": {
  "kernelspec": {
   "display_name": "R",
   "language": "R",
   "name": "ir"
  },
  "language_info": {
   "codemirror_mode": "r",
   "file_extension": ".r",
   "mimetype": "text/x-r-source",
   "name": "R",
   "pygments_lexer": "r",
   "version": "4.3.3"
  }
 },
 "nbformat": 4,
 "nbformat_minor": 5
}
